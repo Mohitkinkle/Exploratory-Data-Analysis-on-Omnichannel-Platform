{
 "cells": [
  {
   "cell_type": "code",
   "execution_count": 1,
   "id": "26280c4a",
   "metadata": {},
   "outputs": [],
   "source": [
    "import pandas as pd\n",
    "import numpy as np\n",
    "\n",
    "import matplotlib.pyplot as plt\n",
    "import seaborn as sns"
   ]
  },
  {
   "cell_type": "code",
   "execution_count": 2,
   "id": "104b5bb3",
   "metadata": {},
   "outputs": [],
   "source": [
    "import warnings\n",
    "warnings.filterwarnings('ignore')"
   ]
  },
  {
   "cell_type": "code",
   "execution_count": 3,
   "id": "87f79a20",
   "metadata": {},
   "outputs": [],
   "source": [
    "df = pd.DataFrame(pd.read_csv('crazy_monkey.csv'))"
   ]
  },
  {
   "cell_type": "code",
   "execution_count": 4,
   "id": "f6ed3c68",
   "metadata": {},
   "outputs": [
    {
     "data": {
      "text/html": [
       "<div>\n",
       "<style scoped>\n",
       "    .dataframe tbody tr th:only-of-type {\n",
       "        vertical-align: middle;\n",
       "    }\n",
       "\n",
       "    .dataframe tbody tr th {\n",
       "        vertical-align: top;\n",
       "    }\n",
       "\n",
       "    .dataframe thead th {\n",
       "        text-align: right;\n",
       "    }\n",
       "</style>\n",
       "<table border=\"1\" class=\"dataframe\">\n",
       "  <thead>\n",
       "    <tr style=\"text-align: right;\">\n",
       "      <th></th>\n",
       "      <th>dummy</th>\n",
       "      <th>order_id</th>\n",
       "      <th>parent_id</th>\n",
       "      <th>user_id</th>\n",
       "      <th>price</th>\n",
       "      <th>quantity</th>\n",
       "      <th>product_id</th>\n",
       "      <th>size_id</th>\n",
       "      <th>category_id</th>\n",
       "      <th>cat_type</th>\n",
       "      <th>...</th>\n",
       "      <th>gender</th>\n",
       "      <th>subclass</th>\n",
       "      <th>neck</th>\n",
       "      <th>sleeve</th>\n",
       "      <th>material</th>\n",
       "      <th>product_type</th>\n",
       "      <th>prod_name</th>\n",
       "      <th>created_at</th>\n",
       "      <th>city</th>\n",
       "      <th>state</th>\n",
       "    </tr>\n",
       "  </thead>\n",
       "  <tbody>\n",
       "    <tr>\n",
       "      <th>0</th>\n",
       "      <td>27288</td>\n",
       "      <td>3550739</td>\n",
       "      <td>0</td>\n",
       "      <td>44879</td>\n",
       "      <td>1000</td>\n",
       "      <td>1</td>\n",
       "      <td>34584</td>\n",
       "      <td>19</td>\n",
       "      <td>382</td>\n",
       "      <td>Accessories</td>\n",
       "      <td>...</td>\n",
       "      <td>Unisex</td>\n",
       "      <td>Mobile Covers</td>\n",
       "      <td>-1</td>\n",
       "      <td>-1</td>\n",
       "      <td>Polycarbonate Hard Plastic</td>\n",
       "      <td>Mobile Covers</td>\n",
       "      <td>OnePlus One Mobile Covers</td>\n",
       "      <td>01-01-2016 00:07</td>\n",
       "      <td>Mumbai</td>\n",
       "      <td>Maharashtra</td>\n",
       "    </tr>\n",
       "    <tr>\n",
       "      <th>1</th>\n",
       "      <td>38337</td>\n",
       "      <td>3550743</td>\n",
       "      <td>0</td>\n",
       "      <td>1627343</td>\n",
       "      <td>1000</td>\n",
       "      <td>1</td>\n",
       "      <td>61354</td>\n",
       "      <td>3</td>\n",
       "      <td>622</td>\n",
       "      <td>Apparel</td>\n",
       "      <td>...</td>\n",
       "      <td>Men</td>\n",
       "      <td>T-Shirts</td>\n",
       "      <td>Round Neck</td>\n",
       "      <td>Full</td>\n",
       "      <td>100% Cotton</td>\n",
       "      <td>T-Shirts</td>\n",
       "      <td>Men's Plain Henley Fullsleeve T-Shirts</td>\n",
       "      <td>01-01-2016 00:11</td>\n",
       "      <td>Mumbai</td>\n",
       "      <td>Maharashtra</td>\n",
       "    </tr>\n",
       "    <tr>\n",
       "      <th>2</th>\n",
       "      <td>29144</td>\n",
       "      <td>3550745</td>\n",
       "      <td>0</td>\n",
       "      <td>1221355</td>\n",
       "      <td>1000</td>\n",
       "      <td>1</td>\n",
       "      <td>26898</td>\n",
       "      <td>4</td>\n",
       "      <td>456</td>\n",
       "      <td>Apparel</td>\n",
       "      <td>...</td>\n",
       "      <td>Men</td>\n",
       "      <td>Pyjamas</td>\n",
       "      <td>-1</td>\n",
       "      <td>-1</td>\n",
       "      <td>100% Cotton</td>\n",
       "      <td>Pyjamas</td>\n",
       "      <td>Men's Plain Pyjamas</td>\n",
       "      <td>01-01-2016 00:12</td>\n",
       "      <td>Ghaziabad</td>\n",
       "      <td>Uttar Pradesh</td>\n",
       "    </tr>\n",
       "    <tr>\n",
       "      <th>3</th>\n",
       "      <td>16576</td>\n",
       "      <td>3550747</td>\n",
       "      <td>3550745</td>\n",
       "      <td>1221355</td>\n",
       "      <td>1000</td>\n",
       "      <td>1</td>\n",
       "      <td>41284</td>\n",
       "      <td>2</td>\n",
       "      <td>200</td>\n",
       "      <td>Apparel</td>\n",
       "      <td>...</td>\n",
       "      <td>Men</td>\n",
       "      <td>T-Shirts</td>\n",
       "      <td>Round Neck</td>\n",
       "      <td>Full</td>\n",
       "      <td>100% Cotton</td>\n",
       "      <td>T-Shirts</td>\n",
       "      <td>Men's Plain Full Sleeve T-Shirts</td>\n",
       "      <td>01-01-2016 00:13</td>\n",
       "      <td>Ghaziabad</td>\n",
       "      <td>Uttar Pradesh</td>\n",
       "    </tr>\n",
       "    <tr>\n",
       "      <th>4</th>\n",
       "      <td>34189</td>\n",
       "      <td>3550749</td>\n",
       "      <td>3550745</td>\n",
       "      <td>1221355</td>\n",
       "      <td>1000</td>\n",
       "      <td>1</td>\n",
       "      <td>53238</td>\n",
       "      <td>2</td>\n",
       "      <td>570</td>\n",
       "      <td>Apparel</td>\n",
       "      <td>...</td>\n",
       "      <td>Men</td>\n",
       "      <td>T-Shirts</td>\n",
       "      <td>Round Neck</td>\n",
       "      <td>Full</td>\n",
       "      <td>100% Cotton</td>\n",
       "      <td>T-Shirts</td>\n",
       "      <td>Men's Plain Sports Trim Fullsleeve T-Shirt</td>\n",
       "      <td>01-01-2016 00:13</td>\n",
       "      <td>Ghaziabad</td>\n",
       "      <td>Uttar Pradesh</td>\n",
       "    </tr>\n",
       "  </tbody>\n",
       "</table>\n",
       "<p>5 rows × 21 columns</p>\n",
       "</div>"
      ],
      "text/plain": [
       "   dummy  order_id  parent_id  user_id  price  quantity  product_id  size_id  \\\n",
       "0  27288   3550739          0    44879   1000         1       34584       19   \n",
       "1  38337   3550743          0  1627343   1000         1       61354        3   \n",
       "2  29144   3550745          0  1221355   1000         1       26898        4   \n",
       "3  16576   3550747    3550745  1221355   1000         1       41284        2   \n",
       "4  34189   3550749    3550745  1221355   1000         1       53238        2   \n",
       "\n",
       "   category_id     cat_type  ...  gender       subclass        neck sleeve  \\\n",
       "0          382  Accessories  ...  Unisex  Mobile Covers          -1     -1   \n",
       "1          622      Apparel  ...     Men       T-Shirts  Round Neck   Full   \n",
       "2          456      Apparel  ...     Men        Pyjamas          -1     -1   \n",
       "3          200      Apparel  ...     Men       T-Shirts  Round Neck   Full   \n",
       "4          570      Apparel  ...     Men       T-Shirts  Round Neck   Full   \n",
       "\n",
       "                     material   product_type  \\\n",
       "0  Polycarbonate Hard Plastic  Mobile Covers   \n",
       "1                 100% Cotton       T-Shirts   \n",
       "2                 100% Cotton        Pyjamas   \n",
       "3                 100% Cotton       T-Shirts   \n",
       "4                 100% Cotton       T-Shirts   \n",
       "\n",
       "                                    prod_name        created_at       city  \\\n",
       "0                   OnePlus One Mobile Covers  01-01-2016 00:07     Mumbai   \n",
       "1      Men's Plain Henley Fullsleeve T-Shirts  01-01-2016 00:11     Mumbai   \n",
       "2                         Men's Plain Pyjamas  01-01-2016 00:12  Ghaziabad   \n",
       "3            Men's Plain Full Sleeve T-Shirts  01-01-2016 00:13  Ghaziabad   \n",
       "4  Men's Plain Sports Trim Fullsleeve T-Shirt  01-01-2016 00:13  Ghaziabad   \n",
       "\n",
       "           state  \n",
       "0    Maharashtra  \n",
       "1    Maharashtra  \n",
       "2  Uttar Pradesh  \n",
       "3  Uttar Pradesh  \n",
       "4  Uttar Pradesh  \n",
       "\n",
       "[5 rows x 21 columns]"
      ]
     },
     "execution_count": 4,
     "metadata": {},
     "output_type": "execute_result"
    }
   ],
   "source": [
    "df.head()"
   ]
  },
  {
   "cell_type": "code",
   "execution_count": 5,
   "id": "0c1bd982",
   "metadata": {},
   "outputs": [
    {
     "name": "stdout",
     "output_type": "stream",
     "text": [
      "<class 'pandas.core.frame.DataFrame'>\n",
      "RangeIndex: 41726 entries, 0 to 41725\n",
      "Data columns (total 21 columns):\n",
      " #   Column        Non-Null Count  Dtype \n",
      "---  ------        --------------  ----- \n",
      " 0   dummy         41726 non-null  int64 \n",
      " 1   order_id      41726 non-null  int64 \n",
      " 2   parent_id     41726 non-null  int64 \n",
      " 3   user_id       41726 non-null  int64 \n",
      " 4   price         41726 non-null  int64 \n",
      " 5   quantity      41726 non-null  int64 \n",
      " 6   product_id    41726 non-null  int64 \n",
      " 7   size_id       41726 non-null  int64 \n",
      " 8   category_id   41726 non-null  int64 \n",
      " 9   cat_type      40174 non-null  object\n",
      " 10  subtype       40174 non-null  object\n",
      " 11  gender        40174 non-null  object\n",
      " 12  subclass      40174 non-null  object\n",
      " 13  neck          40174 non-null  object\n",
      " 14  sleeve        40174 non-null  object\n",
      " 15  material      40174 non-null  object\n",
      " 16  product_type  40174 non-null  object\n",
      " 17  prod_name     41726 non-null  object\n",
      " 18  created_at    41726 non-null  object\n",
      " 19  city          41726 non-null  object\n",
      " 20  state         41701 non-null  object\n",
      "dtypes: int64(9), object(12)\n",
      "memory usage: 6.7+ MB\n"
     ]
    }
   ],
   "source": [
    "df.info()"
   ]
  },
  {
   "cell_type": "code",
   "execution_count": 6,
   "id": "ae154632",
   "metadata": {},
   "outputs": [
    {
     "data": {
      "text/plain": [
       "dummy              0\n",
       "order_id           0\n",
       "parent_id          0\n",
       "user_id            0\n",
       "price              0\n",
       "quantity           0\n",
       "product_id         0\n",
       "size_id            0\n",
       "category_id        0\n",
       "cat_type        1552\n",
       "subtype         1552\n",
       "gender          1552\n",
       "subclass        1552\n",
       "neck            1552\n",
       "sleeve          1552\n",
       "material        1552\n",
       "product_type    1552\n",
       "prod_name          0\n",
       "created_at         0\n",
       "city               0\n",
       "state             25\n",
       "dtype: int64"
      ]
     },
     "execution_count": 6,
     "metadata": {},
     "output_type": "execute_result"
    }
   ],
   "source": [
    "df.isnull().sum()"
   ]
  },
  {
   "cell_type": "code",
   "execution_count": 7,
   "id": "32ba97a2",
   "metadata": {},
   "outputs": [],
   "source": [
    "cat_cols = ['cat_type', 'subtype', 'gender', 'subclass', 'neck', 'sleeve', 'material', 'product_type']\n",
    "for col in cat_cols:\n",
    "    df[col] = df[col].fillna(df[col].mode()[0])"
   ]
  },
  {
   "cell_type": "code",
   "execution_count": 8,
   "id": "a23b7cab",
   "metadata": {},
   "outputs": [],
   "source": [
    "df = df.dropna(subset=['state'])"
   ]
  },
  {
   "cell_type": "raw",
   "id": "eb2e4ba4",
   "metadata": {},
   "source": [
    "This will replace missing values in the categorical columns with their respective modes and drop the rows that have missing values in the 'state' column."
   ]
  },
  {
   "cell_type": "code",
   "execution_count": 9,
   "id": "ea74c064",
   "metadata": {},
   "outputs": [
    {
     "data": {
      "text/plain": [
       "dummy           0\n",
       "order_id        0\n",
       "parent_id       0\n",
       "user_id         0\n",
       "price           0\n",
       "quantity        0\n",
       "product_id      0\n",
       "size_id         0\n",
       "category_id     0\n",
       "cat_type        0\n",
       "subtype         0\n",
       "gender          0\n",
       "subclass        0\n",
       "neck            0\n",
       "sleeve          0\n",
       "material        0\n",
       "product_type    0\n",
       "prod_name       0\n",
       "created_at      0\n",
       "city            0\n",
       "state           0\n",
       "dtype: int64"
      ]
     },
     "execution_count": 9,
     "metadata": {},
     "output_type": "execute_result"
    }
   ],
   "source": [
    "df.isnull().sum()"
   ]
  },
  {
   "cell_type": "raw",
   "id": "3e5d69c0",
   "metadata": {},
   "source": [
    "categorical : cat_type, subtype, gender, subclass, neck, sleeve, material, product_type"
   ]
  },
  {
   "cell_type": "code",
   "execution_count": 10,
   "id": "b51b7470",
   "metadata": {},
   "outputs": [],
   "source": [
    "# missing treatement value done"
   ]
  },
  {
   "cell_type": "markdown",
   "id": "bced63ea",
   "metadata": {},
   "source": [
    "### 1.\tThe top 3 cities that the company should target. Suggest where the company may launch their first offline stores with the product that they may sell at their first offline store. Also, suggest the same for the online web store. Top cities on which they should focus the most and the type of apparel.\n",
    "a.\tTop categories and types\n",
    "b.\tTop products\n",
    "c.\tTop product type\n"
   ]
  },
  {
   "cell_type": "code",
   "execution_count": 11,
   "id": "8abbe954",
   "metadata": {},
   "outputs": [],
   "source": [
    "# grouping the data by city and cal totoal sales for each city\n",
    "\n",
    "city_sales = df.groupby('city')['price'].sum().reset_index()\n",
    "city_sales.columns = ['city','total_sales']"
   ]
  },
  {
   "cell_type": "code",
   "execution_count": 12,
   "id": "6728fb8a",
   "metadata": {},
   "outputs": [
    {
     "data": {
      "text/html": [
       "<div>\n",
       "<style scoped>\n",
       "    .dataframe tbody tr th:only-of-type {\n",
       "        vertical-align: middle;\n",
       "    }\n",
       "\n",
       "    .dataframe tbody tr th {\n",
       "        vertical-align: top;\n",
       "    }\n",
       "\n",
       "    .dataframe thead th {\n",
       "        text-align: right;\n",
       "    }\n",
       "</style>\n",
       "<table border=\"1\" class=\"dataframe\">\n",
       "  <thead>\n",
       "    <tr style=\"text-align: right;\">\n",
       "      <th></th>\n",
       "      <th>city</th>\n",
       "      <th>total_sales</th>\n",
       "    </tr>\n",
       "  </thead>\n",
       "  <tbody>\n",
       "    <tr>\n",
       "      <th>0</th>\n",
       "      <td></td>\n",
       "      <td>1000</td>\n",
       "    </tr>\n",
       "    <tr>\n",
       "      <th>1</th>\n",
       "      <td>24 pgs north</td>\n",
       "      <td>2000</td>\n",
       "    </tr>\n",
       "    <tr>\n",
       "      <th>2</th>\n",
       "      <td>ANGUL</td>\n",
       "      <td>2000</td>\n",
       "    </tr>\n",
       "    <tr>\n",
       "      <th>3</th>\n",
       "      <td>ARCOT</td>\n",
       "      <td>1000</td>\n",
       "    </tr>\n",
       "    <tr>\n",
       "      <th>4</th>\n",
       "      <td>Abohar</td>\n",
       "      <td>2000</td>\n",
       "    </tr>\n",
       "  </tbody>\n",
       "</table>\n",
       "</div>"
      ],
      "text/plain": [
       "           city  total_sales\n",
       "0                       1000\n",
       "1  24 pgs north         2000\n",
       "2         ANGUL         2000\n",
       "3         ARCOT         1000\n",
       "4        Abohar         2000"
      ]
     },
     "execution_count": 12,
     "metadata": {},
     "output_type": "execute_result"
    }
   ],
   "source": [
    "city_sales.head() # this gave us city and total sales "
   ]
  },
  {
   "cell_type": "code",
   "execution_count": 13,
   "id": "3896e5d5",
   "metadata": {},
   "outputs": [],
   "source": [
    "# now lets finds top 3 cities with highest sales"
   ]
  },
  {
   "cell_type": "code",
   "execution_count": 14,
   "id": "c965ccfa",
   "metadata": {},
   "outputs": [
    {
     "name": "stdout",
     "output_type": "stream",
     "text": [
      "top 3 cities with highest sales : ['Mumbai', 'Bangalore', 'Pune']\n"
     ]
    }
   ],
   "source": [
    "top_cities = city_sales.nlargest(3,'total_sales')['city'].tolist()\n",
    "print('top 3 cities with highest sales :',top_cities)"
   ]
  },
  {
   "cell_type": "code",
   "execution_count": 15,
   "id": "c92ae812",
   "metadata": {},
   "outputs": [],
   "source": [
    "# now lets calculate data by category and tyoe and calculate total sales for each combination"
   ]
  },
  {
   "cell_type": "code",
   "execution_count": 16,
   "id": "7763ab2e",
   "metadata": {},
   "outputs": [],
   "source": [
    "category_type_sales = df.groupby(['cat_type','subtype'])['price'].sum().reset_index()\n",
    "category_type_sales.columns = ['category','type','total_sales']"
   ]
  },
  {
   "cell_type": "code",
   "execution_count": 17,
   "id": "871a37ea",
   "metadata": {},
   "outputs": [
    {
     "data": {
      "text/html": [
       "<div>\n",
       "<style scoped>\n",
       "    .dataframe tbody tr th:only-of-type {\n",
       "        vertical-align: middle;\n",
       "    }\n",
       "\n",
       "    .dataframe tbody tr th {\n",
       "        vertical-align: top;\n",
       "    }\n",
       "\n",
       "    .dataframe thead th {\n",
       "        text-align: right;\n",
       "    }\n",
       "</style>\n",
       "<table border=\"1\" class=\"dataframe\">\n",
       "  <thead>\n",
       "    <tr style=\"text-align: right;\">\n",
       "      <th></th>\n",
       "      <th>category</th>\n",
       "      <th>type</th>\n",
       "      <th>total_sales</th>\n",
       "    </tr>\n",
       "  </thead>\n",
       "  <tbody>\n",
       "    <tr>\n",
       "      <th>0</th>\n",
       "      <td>Accessories</td>\n",
       "      <td>Gift Cards</td>\n",
       "      <td>15000</td>\n",
       "    </tr>\n",
       "    <tr>\n",
       "      <th>1</th>\n",
       "      <td>Accessories</td>\n",
       "      <td>Mobile Covers</td>\n",
       "      <td>6601000</td>\n",
       "    </tr>\n",
       "    <tr>\n",
       "      <th>2</th>\n",
       "      <td>Apparel</td>\n",
       "      <td>Bottomwear</td>\n",
       "      <td>10048000</td>\n",
       "    </tr>\n",
       "    <tr>\n",
       "      <th>3</th>\n",
       "      <td>Apparel</td>\n",
       "      <td>Topwear</td>\n",
       "      <td>25037000</td>\n",
       "    </tr>\n",
       "  </tbody>\n",
       "</table>\n",
       "</div>"
      ],
      "text/plain": [
       "      category           type  total_sales\n",
       "0  Accessories     Gift Cards        15000\n",
       "1  Accessories  Mobile Covers      6601000\n",
       "2      Apparel     Bottomwear     10048000\n",
       "3      Apparel        Topwear     25037000"
      ]
     },
     "execution_count": 17,
     "metadata": {},
     "output_type": "execute_result"
    }
   ],
   "source": [
    "category_type_sales.head() # will use to identify top categories and types."
   ]
  },
  {
   "cell_type": "code",
   "execution_count": 18,
   "id": "3dec7eed",
   "metadata": {},
   "outputs": [],
   "source": [
    "# now lets identify"
   ]
  },
  {
   "cell_type": "code",
   "execution_count": 19,
   "id": "f7665b80",
   "metadata": {},
   "outputs": [
    {
     "name": "stdout",
     "output_type": "stream",
     "text": [
      "top 3 categories :  ['Apparel', 'Apparel', 'Accessories']\n",
      "top 3 types :  ['Topwear', 'Bottomwear', 'Mobile Covers']\n"
     ]
    }
   ],
   "source": [
    "top_categor = category_type_sales.nlargest(3,'total_sales')['category'].tolist()\n",
    "top_types = category_type_sales.nlargest(3,'total_sales')['type'].tolist()\n",
    "\n",
    "print('top 3 categories : ',top_categor)\n",
    "print('top 3 types : ',top_types)"
   ]
  },
  {
   "cell_type": "code",
   "execution_count": 20,
   "id": "af41a278",
   "metadata": {},
   "outputs": [],
   "source": [
    "# lets see the total sales for each product"
   ]
  },
  {
   "cell_type": "code",
   "execution_count": 21,
   "id": "fa71fdff",
   "metadata": {},
   "outputs": [],
   "source": [
    "p_sales = df.groupby('prod_name')['price'].sum().reset_index()\n",
    "p_sales.columns = ['product','total_sales']"
   ]
  },
  {
   "cell_type": "code",
   "execution_count": 22,
   "id": "29ff82ce",
   "metadata": {},
   "outputs": [
    {
     "data": {
      "text/html": [
       "<div>\n",
       "<style scoped>\n",
       "    .dataframe tbody tr th:only-of-type {\n",
       "        vertical-align: middle;\n",
       "    }\n",
       "\n",
       "    .dataframe tbody tr th {\n",
       "        vertical-align: top;\n",
       "    }\n",
       "\n",
       "    .dataframe thead th {\n",
       "        text-align: right;\n",
       "    }\n",
       "</style>\n",
       "<table border=\"1\" class=\"dataframe\">\n",
       "  <thead>\n",
       "    <tr style=\"text-align: right;\">\n",
       "      <th></th>\n",
       "      <th>product</th>\n",
       "      <th>total_sales</th>\n",
       "    </tr>\n",
       "  </thead>\n",
       "  <tbody>\n",
       "    <tr>\n",
       "      <th>0</th>\n",
       "      <td>Asus Zenfone 2 Mobile Covers</td>\n",
       "      <td>107000</td>\n",
       "    </tr>\n",
       "    <tr>\n",
       "      <th>1</th>\n",
       "      <td>Blackberry Z10 Mobile Covers</td>\n",
       "      <td>13000</td>\n",
       "    </tr>\n",
       "    <tr>\n",
       "      <th>2</th>\n",
       "      <td>HTC 820 Mobile Covers</td>\n",
       "      <td>74000</td>\n",
       "    </tr>\n",
       "    <tr>\n",
       "      <th>3</th>\n",
       "      <td>Honor 6 Plus Mobile Covers</td>\n",
       "      <td>2000</td>\n",
       "    </tr>\n",
       "    <tr>\n",
       "      <th>4</th>\n",
       "      <td>Lenovo K3 Note Mobile Covers</td>\n",
       "      <td>173000</td>\n",
       "    </tr>\n",
       "  </tbody>\n",
       "</table>\n",
       "</div>"
      ],
      "text/plain": [
       "                         product  total_sales\n",
       "0   Asus Zenfone 2 Mobile Covers       107000\n",
       "1   Blackberry Z10 Mobile Covers        13000\n",
       "2          HTC 820 Mobile Covers        74000\n",
       "3     Honor 6 Plus Mobile Covers         2000\n",
       "4   Lenovo K3 Note Mobile Covers       173000"
      ]
     },
     "execution_count": 22,
     "metadata": {},
     "output_type": "execute_result"
    }
   ],
   "source": [
    "p_sales.head()"
   ]
  },
  {
   "cell_type": "code",
   "execution_count": 23,
   "id": "b6658210",
   "metadata": {},
   "outputs": [],
   "source": [
    "# lets find top products now"
   ]
  },
  {
   "cell_type": "code",
   "execution_count": 24,
   "id": "aadc1913",
   "metadata": {},
   "outputs": [
    {
     "data": {
      "text/html": [
       "<div>\n",
       "<style scoped>\n",
       "    .dataframe tbody tr th:only-of-type {\n",
       "        vertical-align: middle;\n",
       "    }\n",
       "\n",
       "    .dataframe tbody tr th {\n",
       "        vertical-align: top;\n",
       "    }\n",
       "\n",
       "    .dataframe thead th {\n",
       "        text-align: right;\n",
       "    }\n",
       "</style>\n",
       "<table border=\"1\" class=\"dataframe\">\n",
       "  <thead>\n",
       "    <tr style=\"text-align: right;\">\n",
       "      <th></th>\n",
       "      <th>product_type</th>\n",
       "      <th>quantity</th>\n",
       "    </tr>\n",
       "  </thead>\n",
       "  <tbody>\n",
       "    <tr>\n",
       "      <th>10</th>\n",
       "      <td>T-Shirts</td>\n",
       "      <td>19934</td>\n",
       "    </tr>\n",
       "    <tr>\n",
       "      <th>5</th>\n",
       "      <td>Mobile Covers</td>\n",
       "      <td>6601</td>\n",
       "    </tr>\n",
       "    <tr>\n",
       "      <th>6</th>\n",
       "      <td>Pyjamas</td>\n",
       "      <td>4062</td>\n",
       "    </tr>\n",
       "  </tbody>\n",
       "</table>\n",
       "</div>"
      ],
      "text/plain": [
       "     product_type  quantity\n",
       "10       T-Shirts     19934\n",
       "5   Mobile Covers      6601\n",
       "6         Pyjamas      4062"
      ]
     },
     "execution_count": 24,
     "metadata": {},
     "output_type": "execute_result"
    }
   ],
   "source": [
    "top_pro_types = df.groupby('product_type')['quantity'].sum().reset_index()\n",
    "top_pro_types  = top_pro_types.sort_values(by='quantity',ascending=False)\n",
    "\n",
    "top_pro_types.head(3)"
   ]
  },
  {
   "cell_type": "code",
   "execution_count": 25,
   "id": "d97c2451",
   "metadata": {},
   "outputs": [],
   "source": [
    "import datetime as dt"
   ]
  },
  {
   "cell_type": "code",
   "execution_count": 26,
   "id": "5e1492f6",
   "metadata": {},
   "outputs": [
    {
     "data": {
      "text/html": [
       "<div>\n",
       "<style scoped>\n",
       "    .dataframe tbody tr th:only-of-type {\n",
       "        vertical-align: middle;\n",
       "    }\n",
       "\n",
       "    .dataframe tbody tr th {\n",
       "        vertical-align: top;\n",
       "    }\n",
       "\n",
       "    .dataframe thead th {\n",
       "        text-align: right;\n",
       "    }\n",
       "</style>\n",
       "<table border=\"1\" class=\"dataframe\">\n",
       "  <thead>\n",
       "    <tr style=\"text-align: right;\">\n",
       "      <th></th>\n",
       "      <th>dummy</th>\n",
       "      <th>order_id</th>\n",
       "      <th>parent_id</th>\n",
       "      <th>user_id</th>\n",
       "      <th>price</th>\n",
       "      <th>quantity</th>\n",
       "      <th>product_id</th>\n",
       "      <th>size_id</th>\n",
       "      <th>category_id</th>\n",
       "      <th>cat_type</th>\n",
       "      <th>...</th>\n",
       "      <th>gender</th>\n",
       "      <th>subclass</th>\n",
       "      <th>neck</th>\n",
       "      <th>sleeve</th>\n",
       "      <th>material</th>\n",
       "      <th>product_type</th>\n",
       "      <th>prod_name</th>\n",
       "      <th>created_at</th>\n",
       "      <th>city</th>\n",
       "      <th>state</th>\n",
       "    </tr>\n",
       "  </thead>\n",
       "  <tbody>\n",
       "    <tr>\n",
       "      <th>0</th>\n",
       "      <td>27288</td>\n",
       "      <td>3550739</td>\n",
       "      <td>0</td>\n",
       "      <td>44879</td>\n",
       "      <td>1000</td>\n",
       "      <td>1</td>\n",
       "      <td>34584</td>\n",
       "      <td>19</td>\n",
       "      <td>382</td>\n",
       "      <td>Accessories</td>\n",
       "      <td>...</td>\n",
       "      <td>Unisex</td>\n",
       "      <td>Mobile Covers</td>\n",
       "      <td>-1</td>\n",
       "      <td>-1</td>\n",
       "      <td>Polycarbonate Hard Plastic</td>\n",
       "      <td>Mobile Covers</td>\n",
       "      <td>OnePlus One Mobile Covers</td>\n",
       "      <td>01-01-2016 00:07</td>\n",
       "      <td>Mumbai</td>\n",
       "      <td>Maharashtra</td>\n",
       "    </tr>\n",
       "    <tr>\n",
       "      <th>1</th>\n",
       "      <td>38337</td>\n",
       "      <td>3550743</td>\n",
       "      <td>0</td>\n",
       "      <td>1627343</td>\n",
       "      <td>1000</td>\n",
       "      <td>1</td>\n",
       "      <td>61354</td>\n",
       "      <td>3</td>\n",
       "      <td>622</td>\n",
       "      <td>Apparel</td>\n",
       "      <td>...</td>\n",
       "      <td>Men</td>\n",
       "      <td>T-Shirts</td>\n",
       "      <td>Round Neck</td>\n",
       "      <td>Full</td>\n",
       "      <td>100% Cotton</td>\n",
       "      <td>T-Shirts</td>\n",
       "      <td>Men's Plain Henley Fullsleeve T-Shirts</td>\n",
       "      <td>01-01-2016 00:11</td>\n",
       "      <td>Mumbai</td>\n",
       "      <td>Maharashtra</td>\n",
       "    </tr>\n",
       "    <tr>\n",
       "      <th>2</th>\n",
       "      <td>29144</td>\n",
       "      <td>3550745</td>\n",
       "      <td>0</td>\n",
       "      <td>1221355</td>\n",
       "      <td>1000</td>\n",
       "      <td>1</td>\n",
       "      <td>26898</td>\n",
       "      <td>4</td>\n",
       "      <td>456</td>\n",
       "      <td>Apparel</td>\n",
       "      <td>...</td>\n",
       "      <td>Men</td>\n",
       "      <td>Pyjamas</td>\n",
       "      <td>-1</td>\n",
       "      <td>-1</td>\n",
       "      <td>100% Cotton</td>\n",
       "      <td>Pyjamas</td>\n",
       "      <td>Men's Plain Pyjamas</td>\n",
       "      <td>01-01-2016 00:12</td>\n",
       "      <td>Ghaziabad</td>\n",
       "      <td>Uttar Pradesh</td>\n",
       "    </tr>\n",
       "    <tr>\n",
       "      <th>3</th>\n",
       "      <td>16576</td>\n",
       "      <td>3550747</td>\n",
       "      <td>3550745</td>\n",
       "      <td>1221355</td>\n",
       "      <td>1000</td>\n",
       "      <td>1</td>\n",
       "      <td>41284</td>\n",
       "      <td>2</td>\n",
       "      <td>200</td>\n",
       "      <td>Apparel</td>\n",
       "      <td>...</td>\n",
       "      <td>Men</td>\n",
       "      <td>T-Shirts</td>\n",
       "      <td>Round Neck</td>\n",
       "      <td>Full</td>\n",
       "      <td>100% Cotton</td>\n",
       "      <td>T-Shirts</td>\n",
       "      <td>Men's Plain Full Sleeve T-Shirts</td>\n",
       "      <td>01-01-2016 00:13</td>\n",
       "      <td>Ghaziabad</td>\n",
       "      <td>Uttar Pradesh</td>\n",
       "    </tr>\n",
       "    <tr>\n",
       "      <th>4</th>\n",
       "      <td>34189</td>\n",
       "      <td>3550749</td>\n",
       "      <td>3550745</td>\n",
       "      <td>1221355</td>\n",
       "      <td>1000</td>\n",
       "      <td>1</td>\n",
       "      <td>53238</td>\n",
       "      <td>2</td>\n",
       "      <td>570</td>\n",
       "      <td>Apparel</td>\n",
       "      <td>...</td>\n",
       "      <td>Men</td>\n",
       "      <td>T-Shirts</td>\n",
       "      <td>Round Neck</td>\n",
       "      <td>Full</td>\n",
       "      <td>100% Cotton</td>\n",
       "      <td>T-Shirts</td>\n",
       "      <td>Men's Plain Sports Trim Fullsleeve T-Shirt</td>\n",
       "      <td>01-01-2016 00:13</td>\n",
       "      <td>Ghaziabad</td>\n",
       "      <td>Uttar Pradesh</td>\n",
       "    </tr>\n",
       "  </tbody>\n",
       "</table>\n",
       "<p>5 rows × 21 columns</p>\n",
       "</div>"
      ],
      "text/plain": [
       "   dummy  order_id  parent_id  user_id  price  quantity  product_id  size_id  \\\n",
       "0  27288   3550739          0    44879   1000         1       34584       19   \n",
       "1  38337   3550743          0  1627343   1000         1       61354        3   \n",
       "2  29144   3550745          0  1221355   1000         1       26898        4   \n",
       "3  16576   3550747    3550745  1221355   1000         1       41284        2   \n",
       "4  34189   3550749    3550745  1221355   1000         1       53238        2   \n",
       "\n",
       "   category_id     cat_type  ...  gender       subclass        neck sleeve  \\\n",
       "0          382  Accessories  ...  Unisex  Mobile Covers          -1     -1   \n",
       "1          622      Apparel  ...     Men       T-Shirts  Round Neck   Full   \n",
       "2          456      Apparel  ...     Men        Pyjamas          -1     -1   \n",
       "3          200      Apparel  ...     Men       T-Shirts  Round Neck   Full   \n",
       "4          570      Apparel  ...     Men       T-Shirts  Round Neck   Full   \n",
       "\n",
       "                     material   product_type  \\\n",
       "0  Polycarbonate Hard Plastic  Mobile Covers   \n",
       "1                 100% Cotton       T-Shirts   \n",
       "2                 100% Cotton        Pyjamas   \n",
       "3                 100% Cotton       T-Shirts   \n",
       "4                 100% Cotton       T-Shirts   \n",
       "\n",
       "                                    prod_name        created_at       city  \\\n",
       "0                   OnePlus One Mobile Covers  01-01-2016 00:07     Mumbai   \n",
       "1      Men's Plain Henley Fullsleeve T-Shirts  01-01-2016 00:11     Mumbai   \n",
       "2                         Men's Plain Pyjamas  01-01-2016 00:12  Ghaziabad   \n",
       "3            Men's Plain Full Sleeve T-Shirts  01-01-2016 00:13  Ghaziabad   \n",
       "4  Men's Plain Sports Trim Fullsleeve T-Shirt  01-01-2016 00:13  Ghaziabad   \n",
       "\n",
       "           state  \n",
       "0    Maharashtra  \n",
       "1    Maharashtra  \n",
       "2  Uttar Pradesh  \n",
       "3  Uttar Pradesh  \n",
       "4  Uttar Pradesh  \n",
       "\n",
       "[5 rows x 21 columns]"
      ]
     },
     "execution_count": 26,
     "metadata": {},
     "output_type": "execute_result"
    }
   ],
   "source": [
    "df.head()"
   ]
  },
  {
   "cell_type": "markdown",
   "id": "5faef24d",
   "metadata": {},
   "source": [
    "## 2.\tWhat insights can you offer about new and returning customers? \n",
    "a.\tAnalyze the old customers based on RFM(Recency, Frequency, and Monetary Value)\n",
    "b.\tAnalyze the new customers.\n",
    "c.\tFind what the old and new customers are buying, at what time they are buying, and at what day of the month they are buying?\n"
   ]
  },
  {
   "cell_type": "code",
   "execution_count": 27,
   "id": "3b9c50a1",
   "metadata": {},
   "outputs": [],
   "source": [
    "# converting create_at column to datetime format\n",
    "\n",
    "df['created_at'] = pd.to_datetime(df['created_at'])"
   ]
  },
  {
   "cell_type": "code",
   "execution_count": 28,
   "id": "92b9962a",
   "metadata": {},
   "outputs": [
    {
     "data": {
      "text/html": [
       "<div>\n",
       "<style scoped>\n",
       "    .dataframe tbody tr th:only-of-type {\n",
       "        vertical-align: middle;\n",
       "    }\n",
       "\n",
       "    .dataframe tbody tr th {\n",
       "        vertical-align: top;\n",
       "    }\n",
       "\n",
       "    .dataframe thead th {\n",
       "        text-align: right;\n",
       "    }\n",
       "</style>\n",
       "<table border=\"1\" class=\"dataframe\">\n",
       "  <thead>\n",
       "    <tr style=\"text-align: right;\">\n",
       "      <th></th>\n",
       "      <th>dummy</th>\n",
       "      <th>order_id</th>\n",
       "      <th>parent_id</th>\n",
       "      <th>user_id</th>\n",
       "      <th>price</th>\n",
       "      <th>quantity</th>\n",
       "      <th>product_id</th>\n",
       "      <th>size_id</th>\n",
       "      <th>category_id</th>\n",
       "      <th>cat_type</th>\n",
       "      <th>...</th>\n",
       "      <th>gender</th>\n",
       "      <th>subclass</th>\n",
       "      <th>neck</th>\n",
       "      <th>sleeve</th>\n",
       "      <th>material</th>\n",
       "      <th>product_type</th>\n",
       "      <th>prod_name</th>\n",
       "      <th>created_at</th>\n",
       "      <th>city</th>\n",
       "      <th>state</th>\n",
       "    </tr>\n",
       "  </thead>\n",
       "  <tbody>\n",
       "    <tr>\n",
       "      <th>0</th>\n",
       "      <td>27288</td>\n",
       "      <td>3550739</td>\n",
       "      <td>0</td>\n",
       "      <td>44879</td>\n",
       "      <td>1000</td>\n",
       "      <td>1</td>\n",
       "      <td>34584</td>\n",
       "      <td>19</td>\n",
       "      <td>382</td>\n",
       "      <td>Accessories</td>\n",
       "      <td>...</td>\n",
       "      <td>Unisex</td>\n",
       "      <td>Mobile Covers</td>\n",
       "      <td>-1</td>\n",
       "      <td>-1</td>\n",
       "      <td>Polycarbonate Hard Plastic</td>\n",
       "      <td>Mobile Covers</td>\n",
       "      <td>OnePlus One Mobile Covers</td>\n",
       "      <td>2016-01-01 00:07:00</td>\n",
       "      <td>Mumbai</td>\n",
       "      <td>Maharashtra</td>\n",
       "    </tr>\n",
       "  </tbody>\n",
       "</table>\n",
       "<p>1 rows × 21 columns</p>\n",
       "</div>"
      ],
      "text/plain": [
       "   dummy  order_id  parent_id  user_id  price  quantity  product_id  size_id  \\\n",
       "0  27288   3550739          0    44879   1000         1       34584       19   \n",
       "\n",
       "   category_id     cat_type  ...  gender       subclass neck sleeve  \\\n",
       "0          382  Accessories  ...  Unisex  Mobile Covers   -1     -1   \n",
       "\n",
       "                     material   product_type                  prod_name  \\\n",
       "0  Polycarbonate Hard Plastic  Mobile Covers  OnePlus One Mobile Covers   \n",
       "\n",
       "           created_at    city        state  \n",
       "0 2016-01-01 00:07:00  Mumbai  Maharashtra  \n",
       "\n",
       "[1 rows x 21 columns]"
      ]
     },
     "execution_count": 28,
     "metadata": {},
     "output_type": "execute_result"
    }
   ],
   "source": [
    "df.head(1)"
   ]
  },
  {
   "cell_type": "code",
   "execution_count": 29,
   "id": "734526c9",
   "metadata": {},
   "outputs": [
    {
     "name": "stdout",
     "output_type": "stream",
     "text": [
      "<class 'pandas.core.frame.DataFrame'>\n",
      "Int64Index: 41701 entries, 0 to 41725\n",
      "Data columns (total 21 columns):\n",
      " #   Column        Non-Null Count  Dtype         \n",
      "---  ------        --------------  -----         \n",
      " 0   dummy         41701 non-null  int64         \n",
      " 1   order_id      41701 non-null  int64         \n",
      " 2   parent_id     41701 non-null  int64         \n",
      " 3   user_id       41701 non-null  int64         \n",
      " 4   price         41701 non-null  int64         \n",
      " 5   quantity      41701 non-null  int64         \n",
      " 6   product_id    41701 non-null  int64         \n",
      " 7   size_id       41701 non-null  int64         \n",
      " 8   category_id   41701 non-null  int64         \n",
      " 9   cat_type      41701 non-null  object        \n",
      " 10  subtype       41701 non-null  object        \n",
      " 11  gender        41701 non-null  object        \n",
      " 12  subclass      41701 non-null  object        \n",
      " 13  neck          41701 non-null  object        \n",
      " 14  sleeve        41701 non-null  object        \n",
      " 15  material      41701 non-null  object        \n",
      " 16  product_type  41701 non-null  object        \n",
      " 17  prod_name     41701 non-null  object        \n",
      " 18  created_at    41701 non-null  datetime64[ns]\n",
      " 19  city          41701 non-null  object        \n",
      " 20  state         41701 non-null  object        \n",
      "dtypes: datetime64[ns](1), int64(9), object(11)\n",
      "memory usage: 7.0+ MB\n"
     ]
    }
   ],
   "source": [
    "df.info()"
   ]
  },
  {
   "cell_type": "code",
   "execution_count": 30,
   "id": "b4efe1df",
   "metadata": {},
   "outputs": [
    {
     "data": {
      "text/plain": [
       "user_id\n",
       "18      1\n",
       "26      6\n",
       "229     1\n",
       "1113    2\n",
       "1209    1\n",
       "Name: order_id, dtype: int64"
      ]
     },
     "execution_count": 30,
     "metadata": {},
     "output_type": "execute_result"
    }
   ],
   "source": [
    "# date of the most recent purchase for each customer\n",
    "\n",
    "recent_purchase_date = df.groupby('user_id')['order_id'].nunique()\n",
    "\n",
    "recent_purchase_date.head()"
   ]
  },
  {
   "cell_type": "code",
   "execution_count": 31,
   "id": "b27ebd5a",
   "metadata": {},
   "outputs": [
    {
     "data": {
      "text/plain": [
       "user_id\n",
       "18      1\n",
       "26      6\n",
       "229     1\n",
       "1113    2\n",
       "1209    1\n",
       "Name: order_id, dtype: int64"
      ]
     },
     "execution_count": 31,
     "metadata": {},
     "output_type": "execute_result"
    }
   ],
   "source": [
    "# Calculate the total number of orders placed by each customer\n",
    "num_orders = df.groupby('user_id')['order_id'].nunique()\n",
    "\n",
    "num_orders.head()"
   ]
  },
  {
   "cell_type": "code",
   "execution_count": 32,
   "id": "afdb0bb9",
   "metadata": {},
   "outputs": [
    {
     "data": {
      "text/plain": [
       "user_id\n",
       "18      1000\n",
       "26      6000\n",
       "229     1000\n",
       "1113    2000\n",
       "1209    1000\n",
       "Name: price, dtype: int64"
      ]
     },
     "execution_count": 32,
     "metadata": {},
     "output_type": "execute_result"
    }
   ],
   "source": [
    "# Calculate the total amount spent by each customer\n",
    "total_spent = df.groupby('user_id')['price'].sum()\n",
    "total_spent.head()"
   ]
  },
  {
   "cell_type": "code",
   "execution_count": 33,
   "id": "eea963ef",
   "metadata": {},
   "outputs": [],
   "source": [
    "today = pd.to_datetime('today')\n"
   ]
  },
  {
   "cell_type": "code",
   "execution_count": 34,
   "id": "bc6f224b",
   "metadata": {},
   "outputs": [],
   "source": [
    "# Calculate recency for each customer\n",
    "recency = df.groupby('user_id')['created_at'].max().apply(lambda x: (today - x).days)"
   ]
  },
  {
   "cell_type": "code",
   "execution_count": 35,
   "id": "48805ec1",
   "metadata": {},
   "outputs": [
    {
     "data": {
      "text/plain": [
       "user_id\n",
       "18      2630\n",
       "26      2621\n",
       "229     2641\n",
       "1113    2624\n",
       "1209    2623\n",
       "Name: created_at, dtype: int64"
      ]
     },
     "execution_count": 35,
     "metadata": {},
     "output_type": "execute_result"
    }
   ],
   "source": [
    "recency.head()"
   ]
  },
  {
   "cell_type": "code",
   "execution_count": 36,
   "id": "36f49efd",
   "metadata": {},
   "outputs": [],
   "source": [
    "frequency = df.groupby('user_id')['order_id'].nunique()"
   ]
  },
  {
   "cell_type": "code",
   "execution_count": 37,
   "id": "0bcb7a1a",
   "metadata": {},
   "outputs": [],
   "source": [
    "monetary_value = df.groupby('user_id')['price'].sum()"
   ]
  },
  {
   "cell_type": "code",
   "execution_count": 38,
   "id": "80052a4f",
   "metadata": {},
   "outputs": [
    {
     "name": "stdout",
     "output_type": "stream",
     "text": [
      "         Recency  Frequency  MonetaryValue\n",
      "user_id                                   \n",
      "18          2630          1           1000\n",
      "26          2621          6           6000\n",
      "229         2641          1           1000\n",
      "1113        2624          2           2000\n",
      "1209        2623          1           1000\n",
      "...          ...        ...            ...\n",
      "1689329     2619          1           1000\n",
      "1689331     2619          1           1000\n",
      "1689333     2619          1           1000\n",
      "1689335     2619          2           2000\n",
      "1689349     2619          2           2000\n",
      "\n",
      "[22071 rows x 3 columns]\n"
     ]
    }
   ],
   "source": [
    "rfm = pd.DataFrame({'Recency': recency, 'Frequency': frequency, 'MonetaryValue': monetary_value})\n",
    "\n",
    "print(rfm)"
   ]
  },
  {
   "cell_type": "code",
   "execution_count": 39,
   "id": "d9c6ff72",
   "metadata": {},
   "outputs": [],
   "source": [
    "# Calculate the quartiles for each metric\n",
    "quantiles = rfm.quantile(q=[0.25,0.5,0.75])\n",
    "quantiles = quantiles.to_dict()"
   ]
  },
  {
   "cell_type": "code",
   "execution_count": 40,
   "id": "c769cf0a",
   "metadata": {},
   "outputs": [
    {
     "data": {
      "text/plain": [
       "{'Recency': {0.25: 2627.0, 0.5: 2635.0, 0.75: 2642.0},\n",
       " 'Frequency': {0.25: 1.0, 0.5: 1.0, 0.75: 2.0},\n",
       " 'MonetaryValue': {0.25: 1000.0, 0.5: 1000.0, 0.75: 2000.0}}"
      ]
     },
     "execution_count": 40,
     "metadata": {},
     "output_type": "execute_result"
    }
   ],
   "source": [
    "quantiles"
   ]
  },
  {
   "cell_type": "code",
   "execution_count": 41,
   "id": "ad3b2053",
   "metadata": {},
   "outputs": [
    {
     "name": "stdout",
     "output_type": "stream",
     "text": [
      "         Recency  Frequency  MonetaryValue  R  F  M  RFM\n",
      "user_id                                                 \n",
      "18          2630          1           1000  3  4  4  344\n",
      "26          2621          6           6000  4  1  1  411\n",
      "229         2641          1           1000  2  4  4  244\n",
      "1113        2624          2           2000  4  2  2  422\n",
      "1209        2623          1           1000  4  4  4  444\n",
      "...          ...        ...            ... .. .. ..  ...\n",
      "1689329     2619          1           1000  4  4  4  444\n",
      "1689331     2619          1           1000  4  4  4  444\n",
      "1689333     2619          1           1000  4  4  4  444\n",
      "1689335     2619          2           2000  4  2  2  422\n",
      "1689349     2619          2           2000  4  2  2  422\n",
      "\n",
      "[22071 rows x 7 columns]\n"
     ]
    }
   ],
   "source": [
    "# Define a function to assign a score to each metric based on its quartile\n",
    "def rfm_score(x, metric, quantiles):\n",
    "    if x <= quantiles[metric][0.25]:\n",
    "        return 4\n",
    "    elif x <= quantiles[metric][0.5]:\n",
    "        return 3\n",
    "    elif x <= quantiles[metric][0.75]: \n",
    "        return 2\n",
    "    else:\n",
    "        return 1\n",
    "\n",
    "# Assign a score to each metric for each customer\n",
    "rfm['R'] = rfm['Recency'].apply(rfm_score, args=('Recency',quantiles,))\n",
    "rfm['F'] = rfm['Frequency'].apply(rfm_score, args=('Frequency',quantiles,))\n",
    "rfm['M'] = rfm['MonetaryValue'].apply(rfm_score, args=('MonetaryValue',quantiles,))\n",
    "\n",
    "# Calculate the RFM score for each customer\n",
    "rfm['RFM'] = rfm['R']*100 + rfm['F']*10 + rfm['M']\n",
    "\n",
    "# Print the RFM score for each customer\n",
    "print(rfm)"
   ]
  },
  {
   "cell_type": "code",
   "execution_count": 42,
   "id": "050fd506",
   "metadata": {},
   "outputs": [],
   "source": [
    "# now analyze new and old customer"
   ]
  },
  {
   "cell_type": "code",
   "execution_count": 43,
   "id": "f3705215",
   "metadata": {},
   "outputs": [],
   "source": [
    "# Calculate the date of the first purchase for each customer\n",
    "first_purchase_date = df.groupby('user_id')['created_at'].min()\n",
    "\n",
    "# Calculate the time difference between the date of the first purchase and today's date for each customer\n",
    "today = dt.datetime.now().date()\n",
    "customer_tenure = (today - first_purchase_date.dt.date).dt.days"
   ]
  },
  {
   "cell_type": "code",
   "execution_count": 44,
   "id": "03172fc9",
   "metadata": {},
   "outputs": [
    {
     "name": "stdout",
     "output_type": "stream",
     "text": [
      "                   recency  frequency  monetary_value customer_type\n",
      "user_id                                                            \n",
      "18      2627 days 06:41:00          1            1000     returning\n",
      "26      2618 days 12:41:00          6            6000     returning\n",
      "229     2638 days 07:56:00          1            1000     returning\n",
      "1113    2621 days 22:00:00          2            2000     returning\n",
      "1209    2620 days 11:46:00          1            1000     returning\n"
     ]
    }
   ],
   "source": [
    "\n",
    "# Group the data by user_id\n",
    "grouped = df.groupby('user_id')\n",
    "\n",
    "# Calculate recency, frequency, and monetary value for each user\n",
    "recency = dt.datetime(2023, 4, 1) - grouped['created_at'].max()\n",
    "frequency = grouped.size()\n",
    "monetary_value = grouped['price'].sum()\n",
    "\n",
    "# Create a new DataFrame with RFM values\n",
    "rfm = pd.DataFrame({\n",
    "    'recency': recency,\n",
    "    'frequency': frequency,\n",
    "    'monetary_value': monetary_value\n",
    "})\n",
    "\n",
    "# Add a new column to indicate whether a customer is new or returning\n",
    "rfm['customer_type'] = rfm['recency'].apply(lambda x: 'new' if x.days <= 30 else 'returning')\n",
    "\n",
    "# Print the first 5 rows of the new DataFrame\n",
    "print(rfm.head())\n"
   ]
  },
  {
   "cell_type": "markdown",
   "id": "ffbaf8d4",
   "metadata": {},
   "source": [
    "## 3.\tWhat are some interesting insights that you can infer from the data?"
   ]
  },
  {
   "cell_type": "code",
   "execution_count": null,
   "id": "e67c8ae0",
   "metadata": {},
   "outputs": [],
   "source": []
  },
  {
   "cell_type": "markdown",
   "id": "4c7a8fb0",
   "metadata": {},
   "source": [
    "### 1 The company should focus on the top 3 cities for sales:"
   ]
  },
  {
   "cell_type": "raw",
   "id": "e0a31ff0",
   "metadata": {},
   "source": [
    "Mumbai, Pune , and Bangalore."
   ]
  },
  {
   "cell_type": "markdown",
   "id": "9ea39cff",
   "metadata": {},
   "source": [
    "### 2 The most popular product types are"
   ]
  },
  {
   "cell_type": "code",
   "execution_count": 45,
   "id": "4f1a8029",
   "metadata": {},
   "outputs": [
    {
     "name": "stdout",
     "output_type": "stream",
     "text": [
      "     product_type  quantity\n",
      "10       T-Shirts     19934\n",
      "5   Mobile Covers      6601\n",
      "6         Pyjamas      4062\n",
      "1          Boxers      2801\n",
      "4         Joggers      2568\n"
     ]
    }
   ],
   "source": [
    "popular_products = df.groupby('product_type')['quantity'].sum().reset_index().sort_values('quantity', ascending=False)\n",
    "print(popular_products.head(5))\n"
   ]
  },
  {
   "cell_type": "markdown",
   "id": "4a0c5a85",
   "metadata": {},
   "source": [
    "### 3 The most popular product  are"
   ]
  },
  {
   "cell_type": "code",
   "execution_count": 46,
   "id": "dd55d240",
   "metadata": {},
   "outputs": [
    {
     "name": "stdout",
     "output_type": "stream",
     "text": [
      "prod_name\n",
      "Men's Printed T-Shirts                        3440\n",
      "Men's Printed Full Sleeve T-Shirt             3321\n",
      "Women's Printed 3/4 Sleeve T-Shirts           2184\n",
      "Women's Plain 3/4 Sleeve T-Shirts             1905\n",
      "Men's Printed Pyjamas                         1612\n",
      "Men's Printed Vests                           1612\n",
      "Women's Printed Pyjamas                       1469\n",
      "Women's Printed T-Shirts                      1453\n",
      "Men's Plain Sports Trim Fullsleeve T-Shirt    1416\n",
      "Men's Plain Jogger Pants                      1335\n",
      "Name: quantity, dtype: int64\n"
     ]
    }
   ],
   "source": [
    "# total quantity sold.\n",
    "product_sales = df.groupby('prod_name')['quantity'].sum()\n",
    "top_products = product_sales.sort_values(ascending=False).head(10)\n",
    "print(top_products)"
   ]
  },
  {
   "cell_type": "code",
   "execution_count": null,
   "id": "480bcd11",
   "metadata": {},
   "outputs": [],
   "source": []
  },
  {
   "cell_type": "markdown",
   "id": "3727b519",
   "metadata": {},
   "source": [
    "## 4.\tIs it fine to launch offers on weekdays or weekends?"
   ]
  },
  {
   "cell_type": "code",
   "execution_count": 47,
   "id": "197b49b2",
   "metadata": {},
   "outputs": [
    {
     "name": "stdout",
     "output_type": "stream",
     "text": [
      "day_of_week\n",
      "0    5337000\n",
      "1    5727000\n",
      "2    5485000\n",
      "3    5475000\n",
      "4    6555000\n",
      "5    7254000\n",
      "6    5868000\n",
      "Name: price, dtype: int64\n"
     ]
    }
   ],
   "source": [
    "# Convert the created_at column to a datetime object\n",
    "df['created_at'] = pd.to_datetime(df['created_at'])\n",
    "\n",
    "# Extract the day of the week (0 = Monday, 6 = Sunday)\n",
    "df['day_of_week'] = df['created_at'].dt.dayofweek\n",
    "\n",
    "# Calculate the total sales for each day of the week\n",
    "sales_by_day = df.groupby('day_of_week')['price'].sum()\n",
    "\n",
    "# Print the total sales for each day of the week\n",
    "print(sales_by_day)"
   ]
  },
  {
   "cell_type": "raw",
   "id": "05214a03",
   "metadata": {},
   "source": [
    "It is fine to launch offers on both weekdays and weekends, as there is no significant difference in sales between the two.\n"
   ]
  },
  {
   "cell_type": "code",
   "execution_count": null,
   "id": "834e5048",
   "metadata": {},
   "outputs": [],
   "source": []
  },
  {
   "cell_type": "markdown",
   "id": "95f0025b",
   "metadata": {},
   "source": [
    "### 5.\tWhich day of the month gets them the best sales?"
   ]
  },
  {
   "cell_type": "code",
   "execution_count": 48,
   "id": "01070506",
   "metadata": {},
   "outputs": [
    {
     "name": "stdout",
     "output_type": "stream",
     "text": [
      "day\n",
      "1     1048000\n",
      "2     1484000\n",
      "3     1584000\n",
      "4     1403000\n",
      "5     1715000\n",
      "6     1567000\n",
      "7     1544000\n",
      "8     1702000\n",
      "9     1707000\n",
      "10    1648000\n",
      "11    1461000\n",
      "12    1316000\n",
      "13    1470000\n",
      "14    1366000\n",
      "15    1302000\n",
      "16    1414000\n",
      "17    1300000\n",
      "18    1271000\n",
      "19    1304000\n",
      "20    1285000\n",
      "21    1359000\n",
      "22    1290000\n",
      "23    1287000\n",
      "24    1336000\n",
      "25    1202000\n",
      "26    1392000\n",
      "27    1163000\n",
      "28    1206000\n",
      "29    1213000\n",
      "30    1362000\n",
      "Name: price, dtype: int64\n",
      "day\n",
      "1     1048000\n",
      "27    1163000\n",
      "25    1202000\n",
      "28    1206000\n",
      "29    1213000\n",
      "Name: price, dtype: int64\n"
     ]
    }
   ],
   "source": [
    "df['day'] = df['created_at'].dt.day\n",
    "\n",
    "# Group the data by day and calculate the total sales for each day\n",
    "sales_by_day = df.groupby('day')['price'].sum()\n",
    "\n",
    "# Print the sales by day\n",
    "print(sales_by_day)\n",
    "\n",
    "sales_by_day_sorted = sales_by_day.sort_values()\n",
    "print(sales_by_day_sorted.head())\n"
   ]
  },
  {
   "cell_type": "raw",
   "id": "5a87febf",
   "metadata": {},
   "source": [
    "The best day of the month for sales is the 1,27,28,29th."
   ]
  },
  {
   "cell_type": "markdown",
   "id": "5ea8e146",
   "metadata": {},
   "source": [
    "## 6.\tAt what time of the day their website gets the maximum impressions? (Number of orders)\n",
    "\n"
   ]
  },
  {
   "cell_type": "code",
   "execution_count": 49,
   "id": "117fdd56",
   "metadata": {},
   "outputs": [
    {
     "name": "stdout",
     "output_type": "stream",
     "text": [
      "created_at\n",
      "22    3213\n",
      "23    3014\n",
      "21    2817\n",
      "14    2603\n",
      "20    2503\n",
      "12    2457\n",
      "19    2423\n",
      "11    2332\n",
      "17    2327\n",
      "15    2310\n",
      "18    2287\n",
      "13    2251\n",
      "16    2206\n",
      "0     2106\n",
      "10    1728\n",
      "1     1379\n",
      "9     1075\n",
      "2      711\n",
      "8      677\n",
      "3      460\n",
      "7      323\n",
      "4      204\n",
      "6      162\n",
      "5      133\n",
      "dtype: int64\n",
      "created_at\n",
      "5    133\n",
      "6    162\n",
      "4    204\n",
      "7    323\n",
      "3    460\n",
      "dtype: int64\n"
     ]
    }
   ],
   "source": [
    "# Group the data by the hour of the day\n",
    "sales_by_hour = df.groupby(df['created_at'].dt.hour).size()\n",
    "\n",
    "# Sort the data by the number of orders in descending order\n",
    "sales_by_hour = sales_by_hour.sort_values(ascending=False)\n",
    "\n",
    "# Print the result\n",
    "print(sales_by_hour)\n",
    "\n",
    "sales_by_hour_sorted = sales_by_hour.sort_values()\n",
    "print(sales_by_hour_sorted.head())\n"
   ]
  },
  {
   "cell_type": "code",
   "execution_count": 82,
   "id": "88846a6d",
   "metadata": {},
   "outputs": [
    {
     "name": "stdout",
     "output_type": "stream",
     "text": [
      "The peak impressions time is: 22 o'clock\n"
     ]
    }
   ],
   "source": [
    "df['hour'] = df['created_at'].dt.hour\n",
    "\n",
    "# Group the data by hour and count the number of orders\n",
    "impressions_by_hour = df.groupby('hour')['order_id'].count()\n",
    "\n",
    "# Find the hour with the highest number of orders\n",
    "peak_impressions_time = impressions_by_hour.idxmax()\n",
    "\n",
    "# Print the peak impressions time\n",
    "print(\"The peak impressions time is:\", peak_impressions_time, \"o'clock\")"
   ]
  },
  {
   "cell_type": "markdown",
   "id": "6d85175f",
   "metadata": {},
   "source": [
    "## 7.\tAre men placing more orders than women?"
   ]
  },
  {
   "cell_type": "code",
   "execution_count": 50,
   "id": "006da444",
   "metadata": {},
   "outputs": [
    {
     "name": "stdout",
     "output_type": "stream",
     "text": [
      "gender\n",
      "Men       25608\n",
      "Unisex     6616\n",
      "Women      9477\n",
      "Name: order_id, dtype: int64\n"
     ]
    }
   ],
   "source": [
    "orders_by_gender = df.groupby('gender')['order_id'].nunique()\n",
    "print(orders_by_gender)"
   ]
  },
  {
   "cell_type": "raw",
   "id": "0b95e951",
   "metadata": {},
   "source": [
    " yes men are placing more order than women :)"
   ]
  },
  {
   "cell_type": "code",
   "execution_count": 83,
   "id": "c748bb17",
   "metadata": {},
   "outputs": [
    {
     "name": "stdout",
     "output_type": "stream",
     "text": [
      "gender\n",
      "Men       61.408599\n",
      "Unisex    15.865327\n",
      "Women     22.726074\n",
      "Name: order_id, dtype: float64\n"
     ]
    }
   ],
   "source": [
    "orders_by_gender_percentage = orders_by_gender / df['order_id'].nunique() * 100\n",
    "print(orders_by_gender_percentage)"
   ]
  },
  {
   "cell_type": "code",
   "execution_count": null,
   "id": "5cbf6e9c",
   "metadata": {},
   "outputs": [],
   "source": []
  },
  {
   "cell_type": "markdown",
   "id": "4dafedb6",
   "metadata": {},
   "source": [
    "## 8.\tIs it a good idea for the company to open an offline store at this early stage of its startup journey?"
   ]
  },
  {
   "cell_type": "raw",
   "id": "844834ff",
   "metadata": {},
   "source": [
    " yes company can open the stores in these top cities "
   ]
  },
  {
   "cell_type": "code",
   "execution_count": null,
   "id": "8b0bdba6",
   "metadata": {},
   "outputs": [],
   "source": []
  },
  {
   "cell_type": "code",
   "execution_count": 51,
   "id": "0c1b67ec",
   "metadata": {},
   "outputs": [
    {
     "name": "stdout",
     "output_type": "stream",
     "text": [
      "Number of orders with missing gender:  0\n"
     ]
    }
   ],
   "source": [
    "num_missing_gender = df[df['gender'].isnull()]['order_id'].nunique()\n",
    "print(\"Number of orders with missing gender: \", num_missing_gender)\n"
   ]
  },
  {
   "cell_type": "code",
   "execution_count": 52,
   "id": "447cdb5d",
   "metadata": {},
   "outputs": [
    {
     "name": "stdout",
     "output_type": "stream",
     "text": [
      "Number of orders where gender is missing: 0\n"
     ]
    }
   ],
   "source": [
    "num_missing_gender = df['gender'].isnull().sum()\n",
    "\n",
    "print(\"Number of orders where gender is missing:\", num_missing_gender)"
   ]
  },
  {
   "cell_type": "code",
   "execution_count": 53,
   "id": "749a498e",
   "metadata": {},
   "outputs": [
    {
     "name": "stdout",
     "output_type": "stream",
     "text": [
      "city\n",
      "Mumbai       2654\n",
      "Bangalore    2064\n",
      "Pune         1448\n",
      "Name: user_id, dtype: int64\n"
     ]
    }
   ],
   "source": [
    "# Group the data by city and count the number of unique customers in each city\n",
    "city_counts = df.groupby('city')['user_id'].nunique()\n",
    "\n",
    "# Sort the cities based on the number of customers in descending order\n",
    "sorted_cities = city_counts.sort_values(ascending=False)\n",
    "\n",
    "# Get the top 3 cities\n",
    "top_cities = sorted_cities.head(3)\n",
    "\n",
    "# Print the top 3 cities and the number of customers in each city\n",
    "print(top_cities)\n"
   ]
  },
  {
   "cell_type": "code",
   "execution_count": 54,
   "id": "f3c8e595",
   "metadata": {},
   "outputs": [
    {
     "name": "stdout",
     "output_type": "stream",
     "text": [
      "The product with the most sales is 53238 with a total of 697 units sold.\n"
     ]
    }
   ],
   "source": [
    "# Group the data by product_id and sum the quantity sold for each product\n",
    "product_sales = df.groupby('product_id')['quantity'].sum()\n",
    "\n",
    "# Sort the result in descending order\n",
    "product_sales = product_sales.sort_values(ascending=False)\n",
    "\n",
    "# Print the first row to get the product with the most sales\n",
    "print(f\"The product with the most sales is {product_sales.index[0]} with a total of {product_sales.iloc[0]} units sold.\")\n"
   ]
  },
  {
   "cell_type": "code",
   "execution_count": 55,
   "id": "6c6ee4e5",
   "metadata": {},
   "outputs": [
    {
     "name": "stdout",
     "output_type": "stream",
     "text": [
      "The customer with user_id 1654301 has ordered the highest quantity of 110 in the available data.\n"
     ]
    }
   ],
   "source": [
    "# Group the data by user_id and calculate the sum of the quantity column for each user\n",
    "grouped = df.groupby('user_id').agg({'quantity': 'sum'})\n",
    "\n",
    "# Sort the resulting DataFrame in descending order by the quantity column\n",
    "grouped = grouped.sort_values(by='quantity', ascending=False)\n",
    "\n",
    "# Select the top row\n",
    "customer_id = grouped.index[0]\n",
    "\n",
    "print(f\"The customer with user_id {customer_id} has ordered the highest quantity of {grouped.loc[customer_id, 'quantity']} in the available data.\")\n"
   ]
  },
  {
   "cell_type": "code",
   "execution_count": 67,
   "id": "1cb88357",
   "metadata": {},
   "outputs": [
    {
     "data": {
      "text/html": [
       "<div>\n",
       "<style scoped>\n",
       "    .dataframe tbody tr th:only-of-type {\n",
       "        vertical-align: middle;\n",
       "    }\n",
       "\n",
       "    .dataframe tbody tr th {\n",
       "        vertical-align: top;\n",
       "    }\n",
       "\n",
       "    .dataframe thead th {\n",
       "        text-align: right;\n",
       "    }\n",
       "</style>\n",
       "<table border=\"1\" class=\"dataframe\">\n",
       "  <thead>\n",
       "    <tr style=\"text-align: right;\">\n",
       "      <th></th>\n",
       "      <th>user_id</th>\n",
       "      <th>recency_month</th>\n",
       "    </tr>\n",
       "  </thead>\n",
       "  <tbody>\n",
       "    <tr>\n",
       "      <th>0</th>\n",
       "      <td>18</td>\n",
       "      <td>86.41</td>\n",
       "    </tr>\n",
       "    <tr>\n",
       "      <th>1</th>\n",
       "      <td>26</td>\n",
       "      <td>86.12</td>\n",
       "    </tr>\n",
       "    <tr>\n",
       "      <th>2</th>\n",
       "      <td>229</td>\n",
       "      <td>86.77</td>\n",
       "    </tr>\n",
       "    <tr>\n",
       "      <th>3</th>\n",
       "      <td>1113</td>\n",
       "      <td>86.23</td>\n",
       "    </tr>\n",
       "    <tr>\n",
       "      <th>4</th>\n",
       "      <td>1209</td>\n",
       "      <td>86.19</td>\n",
       "    </tr>\n",
       "  </tbody>\n",
       "</table>\n",
       "</div>"
      ],
      "text/plain": [
       "   user_id  recency_month\n",
       "0       18          86.41\n",
       "1       26          86.12\n",
       "2      229          86.77\n",
       "3     1113          86.23\n",
       "4     1209          86.19"
      ]
     },
     "execution_count": 67,
     "metadata": {},
     "output_type": "execute_result"
    }
   ],
   "source": [
    "import pandas as pd\n",
    "import numpy as np\n",
    "\n",
    "# convert the 'created_at' column to datetime format\n",
    "df['created_at'] = pd.to_datetime(df['created_at'])\n",
    "\n",
    "# calculate the most recent purchase date for each customer\n",
    "recent_purchase = df.groupby('user_id')['created_at'].max()\n",
    "\n",
    "# calculate the recency (in months) of each customer's most recent purchase\n",
    "recency = (pd.to_datetime('now') - recent_purchase) / np.timedelta64(1, 'M')\n",
    "\n",
    "# round the recency values to two decimal places\n",
    "recency = round(recency, 2)\n",
    "\n",
    "# create a new dataframe with the recency values for each customer\n",
    "recency_df = pd.DataFrame({'user_id': recency.index, 'recency_month': recency.values})\n",
    "\n",
    "# merge the recency dataframe with the original dataframe to add the recency values as a new column\n",
    "df = pd.merge(df, recency_df, on='user_id', how='left')\n",
    "\n",
    "recency_df.head()\n"
   ]
  },
  {
   "cell_type": "code",
   "execution_count": 63,
   "id": "d86b1331",
   "metadata": {},
   "outputs": [
    {
     "data": {
      "text/html": [
       "<div>\n",
       "<style scoped>\n",
       "    .dataframe tbody tr th:only-of-type {\n",
       "        vertical-align: middle;\n",
       "    }\n",
       "\n",
       "    .dataframe tbody tr th {\n",
       "        vertical-align: top;\n",
       "    }\n",
       "\n",
       "    .dataframe thead th {\n",
       "        text-align: right;\n",
       "    }\n",
       "</style>\n",
       "<table border=\"1\" class=\"dataframe\">\n",
       "  <thead>\n",
       "    <tr style=\"text-align: right;\">\n",
       "      <th></th>\n",
       "      <th>dummy</th>\n",
       "      <th>order_id</th>\n",
       "      <th>parent_id</th>\n",
       "      <th>user_id</th>\n",
       "      <th>price</th>\n",
       "      <th>quantity</th>\n",
       "      <th>product_id</th>\n",
       "      <th>size_id</th>\n",
       "      <th>category_id</th>\n",
       "      <th>cat_type</th>\n",
       "      <th>...</th>\n",
       "      <th>neck</th>\n",
       "      <th>sleeve</th>\n",
       "      <th>material</th>\n",
       "      <th>product_type</th>\n",
       "      <th>prod_name</th>\n",
       "      <th>created_at</th>\n",
       "      <th>city</th>\n",
       "      <th>state</th>\n",
       "      <th>day_of_week</th>\n",
       "      <th>day</th>\n",
       "    </tr>\n",
       "  </thead>\n",
       "  <tbody>\n",
       "    <tr>\n",
       "      <th>0</th>\n",
       "      <td>27288</td>\n",
       "      <td>3550739</td>\n",
       "      <td>0</td>\n",
       "      <td>44879</td>\n",
       "      <td>1000</td>\n",
       "      <td>1</td>\n",
       "      <td>34584</td>\n",
       "      <td>19</td>\n",
       "      <td>382</td>\n",
       "      <td>Accessories</td>\n",
       "      <td>...</td>\n",
       "      <td>-1</td>\n",
       "      <td>-1</td>\n",
       "      <td>Polycarbonate Hard Plastic</td>\n",
       "      <td>Mobile Covers</td>\n",
       "      <td>OnePlus One Mobile Covers</td>\n",
       "      <td>2016-01-01 00:07:00</td>\n",
       "      <td>Mumbai</td>\n",
       "      <td>Maharashtra</td>\n",
       "      <td>4</td>\n",
       "      <td>1</td>\n",
       "    </tr>\n",
       "  </tbody>\n",
       "</table>\n",
       "<p>1 rows × 23 columns</p>\n",
       "</div>"
      ],
      "text/plain": [
       "   dummy  order_id  parent_id  user_id  price  quantity  product_id  size_id  \\\n",
       "0  27288   3550739          0    44879   1000         1       34584       19   \n",
       "\n",
       "   category_id     cat_type  ... neck sleeve                    material  \\\n",
       "0          382  Accessories  ...   -1     -1  Polycarbonate Hard Plastic   \n",
       "\n",
       "    product_type                  prod_name          created_at    city  \\\n",
       "0  Mobile Covers  OnePlus One Mobile Covers 2016-01-01 00:07:00  Mumbai   \n",
       "\n",
       "         state day_of_week day  \n",
       "0  Maharashtra           4   1  \n",
       "\n",
       "[1 rows x 23 columns]"
      ]
     },
     "execution_count": 63,
     "metadata": {},
     "output_type": "execute_result"
    }
   ],
   "source": [
    "df.head(1)"
   ]
  },
  {
   "cell_type": "code",
   "execution_count": 76,
   "id": "538325ad",
   "metadata": {},
   "outputs": [
    {
     "name": "stdout",
     "output_type": "stream",
     "text": [
      "         recency  frequency  monetary_value customer_type\n",
      "user_id                                                  \n",
      "18            86          1            1000     returning\n",
      "26            86          6            6000     returning\n",
      "229           86          1            1000     returning\n",
      "1113          86          2            2000     returning\n",
      "1209          86          1            1000     returning\n"
     ]
    }
   ],
   "source": [
    "# Calculate the date of the first purchase for each customer\n",
    "first_purchase_date = df.groupby('user_id')['created_at'].min()\n",
    "\n",
    "# Calculate the time difference between the date of the first purchase and today's date for each customer\n",
    "today = dt.datetime.now().date()\n",
    "customer_tenure = (today - first_purchase_date.dt.date).dt.days\n",
    "\n",
    "# Group the data by user_id\n",
    "grouped = df.groupby('user_id')\n",
    "\n",
    "# Calculate recency, frequency, and monetary value for each user in months\n",
    "recency = ((dt.datetime(2023, 4, 1) - grouped['created_at'].max()) / np.timedelta64(1, 'M')).astype(int)\n",
    "frequency = grouped.size()\n",
    "monetary_value = grouped['price'].sum()\n",
    "\n",
    "# Create a new DataFrame with RFM values\n",
    "rfm = pd.DataFrame({\n",
    "    'recency': recency,\n",
    "    'frequency': frequency,\n",
    "    'monetary_value': monetary_value\n",
    "})\n",
    "\n",
    "# Add a new column to indicate whether a customer is new or returning\n",
    "rfm['customer_type'] = rfm['recency'].apply(lambda x: 'new' if x <= 1 else 'returning')\n",
    "\n",
    "# Print the first 5 rows of the new DataFrame\n",
    "print(rfm.head())\n"
   ]
  },
  {
   "cell_type": "code",
   "execution_count": 77,
   "id": "33d086f4",
   "metadata": {},
   "outputs": [
    {
     "name": "stdout",
     "output_type": "stream",
     "text": [
      "The best sales day of the month is: 5\n"
     ]
    }
   ],
   "source": [
    "# Extract the day of the month from the created_at column\n",
    "df['day'] = df['created_at'].dt.day\n",
    "\n",
    "# Group the data by day and calculate the total revenue for each day\n",
    "daily_revenue = df.groupby('day')['price'].sum()\n",
    "\n",
    "# Find the day with the highest total revenue\n",
    "best_day = daily_revenue.idxmax()\n",
    "\n",
    "# Print the best day of the month\n",
    "print('The best sales day of the month is:', best_day)"
   ]
  },
  {
   "cell_type": "code",
   "execution_count": 80,
   "id": "8821d27e",
   "metadata": {},
   "outputs": [
    {
     "name": "stdout",
     "output_type": "stream",
     "text": [
      "The peak impressions hour is 22:00\n"
     ]
    }
   ],
   "source": [
    "# Extract the hour from the 'created_at' column\n",
    "df['hour'] = df['created_at'].dt.hour\n",
    "\n",
    "# Group the data by hour and count the number of orders\n",
    "impressions_by_hour = df.groupby('hour')['order_id'].count()\n",
    "\n",
    "# Find the hour with the highest number of orders\n",
    "peak_impressions_hour = impressions_by_hour.idxmax()\n",
    "\n",
    "# Print the peak impressions hour\n",
    "print(f'The peak impressions hour is {peak_impressions_hour}:00')"
   ]
  },
  {
   "cell_type": "markdown",
   "id": "37ca963f",
   "metadata": {},
   "source": [
    "that is 10pm"
   ]
  },
  {
   "cell_type": "code",
   "execution_count": null,
   "id": "b8257cd9",
   "metadata": {},
   "outputs": [],
   "source": []
  }
 ],
 "metadata": {
  "kernelspec": {
   "display_name": "Python 3 (ipykernel)",
   "language": "python",
   "name": "python3"
  },
  "language_info": {
   "codemirror_mode": {
    "name": "ipython",
    "version": 3
   },
   "file_extension": ".py",
   "mimetype": "text/x-python",
   "name": "python",
   "nbconvert_exporter": "python",
   "pygments_lexer": "ipython3",
   "version": "3.9.13"
  }
 },
 "nbformat": 4,
 "nbformat_minor": 5
}
